{
 "cells": [
  {
   "cell_type": "markdown",
   "metadata": {},
   "source": [
    "# سوال ۱"
   ]
  },
  {
   "cell_type": "code",
   "execution_count": 1,
   "metadata": {},
   "outputs": [],
   "source": [
    "import numpy as np\n",
    "import pandas as pd\n",
    "import pandas as pd"
   ]
  },
  {
   "cell_type": "markdown",
   "metadata": {},
   "source": [
    "# 1-1"
   ]
  },
  {
   "cell_type": "code",
   "execution_count": 2,
   "metadata": {
    "scrolled": true
   },
   "outputs": [
    {
     "data": {
      "text/html": [
       "<div>\n",
       "<style scoped>\n",
       "    .dataframe tbody tr th:only-of-type {\n",
       "        vertical-align: middle;\n",
       "    }\n",
       "\n",
       "    .dataframe tbody tr th {\n",
       "        vertical-align: top;\n",
       "    }\n",
       "\n",
       "    .dataframe thead th {\n",
       "        text-align: right;\n",
       "    }\n",
       "</style>\n",
       "<table border=\"1\" class=\"dataframe\">\n",
       "  <thead>\n",
       "    <tr style=\"text-align: right;\">\n",
       "      <th></th>\n",
       "      <th>RM</th>\n",
       "      <th>LSTAT</th>\n",
       "      <th>PTRATIO</th>\n",
       "      <th>MEDV</th>\n",
       "    </tr>\n",
       "  </thead>\n",
       "  <tbody>\n",
       "    <tr>\n",
       "      <th>0</th>\n",
       "      <td>6.575</td>\n",
       "      <td>4.98</td>\n",
       "      <td>15.3</td>\n",
       "      <td>504000.0</td>\n",
       "    </tr>\n",
       "    <tr>\n",
       "      <th>1</th>\n",
       "      <td>6.421</td>\n",
       "      <td>9.14</td>\n",
       "      <td>17.8</td>\n",
       "      <td>453600.0</td>\n",
       "    </tr>\n",
       "    <tr>\n",
       "      <th>2</th>\n",
       "      <td>7.185</td>\n",
       "      <td>4.03</td>\n",
       "      <td>17.8</td>\n",
       "      <td>728700.0</td>\n",
       "    </tr>\n",
       "    <tr>\n",
       "      <th>3</th>\n",
       "      <td>6.998</td>\n",
       "      <td>2.94</td>\n",
       "      <td>18.7</td>\n",
       "      <td>701400.0</td>\n",
       "    </tr>\n",
       "    <tr>\n",
       "      <th>4</th>\n",
       "      <td>7.147</td>\n",
       "      <td>5.33</td>\n",
       "      <td>18.7</td>\n",
       "      <td>760200.0</td>\n",
       "    </tr>\n",
       "  </tbody>\n",
       "</table>\n",
       "</div>"
      ],
      "text/plain": [
       "      RM  LSTAT  PTRATIO      MEDV\n",
       "0  6.575   4.98     15.3  504000.0\n",
       "1  6.421   9.14     17.8  453600.0\n",
       "2  7.185   4.03     17.8  728700.0\n",
       "3  6.998   2.94     18.7  701400.0\n",
       "4  7.147   5.33     18.7  760200.0"
      ]
     },
     "execution_count": 2,
     "metadata": {},
     "output_type": "execute_result"
    }
   ],
   "source": [
    "A = pd.read_csv('Housing.csv')\n",
    "A.head()"
   ]
  },
  {
   "cell_type": "code",
   "execution_count": 3,
   "metadata": {},
   "outputs": [
    {
     "data": {
      "text/html": [
       "<div>\n",
       "<style scoped>\n",
       "    .dataframe tbody tr th:only-of-type {\n",
       "        vertical-align: middle;\n",
       "    }\n",
       "\n",
       "    .dataframe tbody tr th {\n",
       "        vertical-align: top;\n",
       "    }\n",
       "\n",
       "    .dataframe thead th {\n",
       "        text-align: right;\n",
       "    }\n",
       "</style>\n",
       "<table border=\"1\" class=\"dataframe\">\n",
       "  <thead>\n",
       "    <tr style=\"text-align: right;\">\n",
       "      <th></th>\n",
       "      <th>RM</th>\n",
       "      <th>LSTAT</th>\n",
       "      <th>PTRATIO</th>\n",
       "      <th>MEDV</th>\n",
       "    </tr>\n",
       "  </thead>\n",
       "  <tbody>\n",
       "    <tr>\n",
       "      <th>0</th>\n",
       "      <td>0.520554</td>\n",
       "      <td>-1.125077</td>\n",
       "      <td>-1.525083</td>\n",
       "      <td>0.300640</td>\n",
       "    </tr>\n",
       "    <tr>\n",
       "      <th>1</th>\n",
       "      <td>0.281048</td>\n",
       "      <td>-0.537070</td>\n",
       "      <td>-0.339748</td>\n",
       "      <td>-0.004498</td>\n",
       "    </tr>\n",
       "    <tr>\n",
       "      <th>2</th>\n",
       "      <td>1.469245</td>\n",
       "      <td>-1.259357</td>\n",
       "      <td>-0.339748</td>\n",
       "      <td>1.661047</td>\n",
       "    </tr>\n",
       "    <tr>\n",
       "      <th>3</th>\n",
       "      <td>1.178417</td>\n",
       "      <td>-1.413427</td>\n",
       "      <td>0.086973</td>\n",
       "      <td>1.495764</td>\n",
       "    </tr>\n",
       "    <tr>\n",
       "      <th>4</th>\n",
       "      <td>1.410146</td>\n",
       "      <td>-1.075605</td>\n",
       "      <td>0.086973</td>\n",
       "      <td>1.851759</td>\n",
       "    </tr>\n",
       "    <tr>\n",
       "      <th>...</th>\n",
       "      <td>...</td>\n",
       "      <td>...</td>\n",
       "      <td>...</td>\n",
       "      <td>...</td>\n",
       "    </tr>\n",
       "    <tr>\n",
       "      <th>484</th>\n",
       "      <td>0.548548</td>\n",
       "      <td>-0.462155</td>\n",
       "      <td>1.177482</td>\n",
       "      <td>0.097215</td>\n",
       "    </tr>\n",
       "    <tr>\n",
       "      <th>485</th>\n",
       "      <td>-0.187076</td>\n",
       "      <td>-0.545551</td>\n",
       "      <td>1.177482</td>\n",
       "      <td>-0.131639</td>\n",
       "    </tr>\n",
       "    <tr>\n",
       "      <th>486</th>\n",
       "      <td>1.144202</td>\n",
       "      <td>-1.031787</td>\n",
       "      <td>1.177482</td>\n",
       "      <td>0.287926</td>\n",
       "    </tr>\n",
       "    <tr>\n",
       "      <th>487</th>\n",
       "      <td>0.861150</td>\n",
       "      <td>-0.913055</td>\n",
       "      <td>1.177482</td>\n",
       "      <td>0.046358</td>\n",
       "    </tr>\n",
       "    <tr>\n",
       "      <th>488</th>\n",
       "      <td>-0.327047</td>\n",
       "      <td>-0.715168</td>\n",
       "      <td>1.177482</td>\n",
       "      <td>-1.237764</td>\n",
       "    </tr>\n",
       "  </tbody>\n",
       "</table>\n",
       "<p>489 rows × 4 columns</p>\n",
       "</div>"
      ],
      "text/plain": [
       "           RM     LSTAT   PTRATIO      MEDV\n",
       "0    0.520554 -1.125077 -1.525083  0.300640\n",
       "1    0.281048 -0.537070 -0.339748 -0.004498\n",
       "2    1.469245 -1.259357 -0.339748  1.661047\n",
       "3    1.178417 -1.413427  0.086973  1.495764\n",
       "4    1.410146 -1.075605  0.086973  1.851759\n",
       "..        ...       ...       ...       ...\n",
       "484  0.548548 -0.462155  1.177482  0.097215\n",
       "485 -0.187076 -0.545551  1.177482 -0.131639\n",
       "486  1.144202 -1.031787  1.177482  0.287926\n",
       "487  0.861150 -0.913055  1.177482  0.046358\n",
       "488 -0.327047 -0.715168  1.177482 -1.237764\n",
       "\n",
       "[489 rows x 4 columns]"
      ]
     },
     "execution_count": 3,
     "metadata": {},
     "output_type": "execute_result"
    }
   ],
   "source": [
    "b = A.values\n",
    "from sklearn.preprocessing import StandardScaler\n",
    "scaler = StandardScaler().fit(b)\n",
    "standardized = scaler.transform(b)\n",
    "A= pd.DataFrame(standardized,columns=[\"RM\",\"LSTAT\",\"PTRATIO\",\"MEDV\"])\n",
    "A"
   ]
  },
  {
   "cell_type": "markdown",
   "metadata": {},
   "source": [
    "# 1-2"
   ]
  },
  {
   "cell_type": "code",
   "execution_count": 4,
   "metadata": {},
   "outputs": [],
   "source": [
    "x = A[\"LSTAT\"]\n",
    "y = A[\"MEDV\"]"
   ]
  },
  {
   "cell_type": "markdown",
   "metadata": {},
   "source": [
    "# 1-3"
   ]
  },
  {
   "cell_type": "code",
   "execution_count": 5,
   "metadata": {},
   "outputs": [],
   "source": [
    "from sklearn.model_selection import train_test_split \n",
    "X_train, X_test, y_train, y_test = train_test_split(x, y, test_size=0.2) "
   ]
  },
  {
   "cell_type": "markdown",
   "metadata": {},
   "source": [
    "# 1-4"
   ]
  },
  {
   "cell_type": "code",
   "execution_count": 6,
   "metadata": {},
   "outputs": [
    {
     "data": {
      "text/plain": [
       "DecisionTreeRegressor(max_depth=3)"
      ]
     },
     "execution_count": 6,
     "metadata": {},
     "output_type": "execute_result"
    }
   ],
   "source": [
    "from sklearn.tree import DecisionTreeRegressor\n",
    "regressor = DecisionTreeRegressor(criterion='mse', max_depth=3)\n",
    "regressor.fit(X_train.values.reshape(-1, 1), y_train)"
   ]
  },
  {
   "cell_type": "markdown",
   "metadata": {},
   "source": [
    "# 1-5"
   ]
  },
  {
   "cell_type": "code",
   "execution_count": 7,
   "metadata": {},
   "outputs": [
    {
     "name": "stdout",
     "output_type": "stream",
     "text": [
      "Mean Absolute Error: 0.5270344674213973\n",
      "Mean Squared Error: 0.4679310649432708\n",
      "Root Mean Squared Error: 0.6840548698337515\n",
      "R^2: 0.6063562885617241\n"
     ]
    }
   ],
   "source": [
    "from sklearn import metrics\n",
    "regressor.fit(X_train.values.reshape(-1, 1), y_train)\n",
    "y_pred = regressor.predict(X_test.values.reshape(-1, 1))\n",
    "df=pd.DataFrame({'Actual':y_test, 'Predicted':y_pred})\n",
    "print('Mean Absolute Error:', metrics.mean_absolute_error(y_test, y_pred))\n",
    "print('Mean Squared Error:', metrics.mean_squared_error(y_test, y_pred))\n",
    "print('Root Mean Squared Error:', np.sqrt(metrics.mean_squared_error(y_test, y_pred)))\n",
    "print('R^2:',regressor.score(X_test.values.reshape(-1, 1), y_test))"
   ]
  },
  {
   "cell_type": "markdown",
   "metadata": {},
   "source": [
    "# 1-6"
   ]
  },
  {
   "cell_type": "code",
   "execution_count": 8,
   "metadata": {},
   "outputs": [
    {
     "name": "stdout",
     "output_type": "stream",
     "text": [
      "1\n",
      "Mean Absolute Error: 0.6453358634196894\n",
      "Mean Squared Error: 0.6511343301388968\n",
      "Root Mean Squared Error: 0.8069289498703692\n",
      "R^2: 0.4522378325281202\n",
      "\n",
      "\n",
      "2\n",
      "Mean Absolute Error: 0.5819854550665136\n",
      "Mean Squared Error: 0.5281272024255333\n",
      "Root Mean Squared Error: 0.726723608000685\n",
      "R^2: 0.5557167120342728\n",
      "\n",
      "\n",
      "3\n",
      "Mean Absolute Error: 0.5270344674213973\n",
      "Mean Squared Error: 0.4679310649432708\n",
      "Root Mean Squared Error: 0.6840548698337515\n",
      "R^2: 0.6063562885617241\n",
      "\n",
      "\n",
      "4\n",
      "Mean Absolute Error: 0.524009015530143\n",
      "Mean Squared Error: 0.47416824338355784\n",
      "Root Mean Squared Error: 0.6885987535448767\n",
      "R^2: 0.6011093061446986\n",
      "\n",
      "\n",
      "5\n",
      "Mean Absolute Error: 0.5359075891794128\n",
      "Mean Squared Error: 0.5015251026111034\n",
      "Root Mean Squared Error: 0.7081843704933789\n",
      "R^2: 0.578095541070283\n",
      "\n",
      "\n",
      "6\n",
      "Mean Absolute Error: 0.5534993974664674\n",
      "Mean Squared Error: 0.5441527470935745\n",
      "Root Mean Squared Error: 0.7376670977436737\n",
      "R^2: 0.5422353354949477\n",
      "\n",
      "\n",
      "7\n",
      "Mean Absolute Error: 0.5833521781088487\n",
      "Mean Squared Error: 0.6044590623657701\n",
      "Root Mean Squared Error: 0.7774696536622957\n",
      "R^2: 0.4915030726780052\n",
      "\n",
      "\n",
      "8\n",
      "Mean Absolute Error: 0.5920200711192076\n",
      "Mean Squared Error: 0.6179825659826232\n",
      "Root Mean Squared Error: 0.7861186716918911\n",
      "R^2: 0.48012652054412963\n",
      "\n",
      "\n",
      "9\n",
      "Mean Absolute Error: 0.6190127390833546\n",
      "Mean Squared Error: 0.7044346248168821\n",
      "Root Mean Squared Error: 0.8393060376387639\n",
      "R^2: 0.4073993351730887\n",
      "\n",
      "\n"
     ]
    },
    {
     "data": {
      "text/plain": [
       "Text(0, 0.5, 'Mean Absolute Error')"
      ]
     },
     "execution_count": 8,
     "metadata": {},
     "output_type": "execute_result"
    },
    {
     "data": {
      "image/png": "[encoded data removed]",
      "text/plain": [
       "<Figure size 864x432 with 1 Axes>"
      ]
     },
     "metadata": {
      "needs_background": "light"
     },
     "output_type": "display_data"
    }
   ],
   "source": [
    "import matplotlib.pyplot as plt\n",
    "Absolute=[]\n",
    "MSE=[]\n",
    "RMSE=[]\n",
    "for i in range(1,10):\n",
    "    regressor = DecisionTreeRegressor(criterion='mse', max_depth=i)\n",
    "    regressor.fit(X_train.values.reshape(-1, 1), y_train)\n",
    "    y_pred = regressor.predict(X_test.values.reshape(-1, 1))\n",
    "    df=pd.DataFrame({'Actual':y_test, 'Predicted':y_pred})\n",
    "    print(i)\n",
    "    a=metrics.mean_absolute_error(y_test, y_pred)\n",
    "    print('Mean Absolute Error:',a)\n",
    "    b=metrics.mean_squared_error(y_test, y_pred)\n",
    "    print('Mean Squared Error:',b)\n",
    "    c=np.sqrt(metrics.mean_squared_error(y_test, y_pred))\n",
    "    print('Root Mean Squared Error:',c)\n",
    "    print('R^2:',regressor.score(X_test.values.reshape(-1, 1), y_test))\n",
    "    print(\"\\n\")\n",
    "    Absolute.append(a)\n",
    "    MSE.append(b)\n",
    "    RMSE.append(c)\n",
    "plt.figure(figsize=(12, 6))\n",
    "plt.plot(range(1, 10), Absolute, color='red', linestyle='dashed', marker='o',markerfacecolor='blue', markersize=10)\n",
    "plt.title('Mean Absolute Error')\n",
    "plt.xlabel('max_depth')\n",
    "plt.ylabel('Mean Absolute Error')"
   ]
  },
  {
   "cell_type": "code",
   "execution_count": 9,
   "metadata": {},
   "outputs": [
    {
     "data": {
      "text/plain": [
       "Text(0, 0.5, 'Mean Squared Error')"
      ]
     },
     "execution_count": 9,
     "metadata": {},
     "output_type": "execute_result"
    },
    {
     "data": {
      "image/png": "[encoded data removed]",
      "text/plain": [
       "<Figure size 864x432 with 1 Axes>"
      ]
     },
     "metadata": {
      "needs_background": "light"
     },
     "output_type": "display_data"
    }
   ],
   "source": [
    "Absolute=[]\n",
    "MSE=[]\n",
    "RMSE=[]\n",
    "for i in range(1,10):\n",
    "    regressor = DecisionTreeRegressor(criterion='mse', max_depth=i)\n",
    "    regressor.fit(X_train.values.reshape(-1, 1), y_train)\n",
    "    y_pred = regressor.predict(X_test.values.reshape(-1, 1))\n",
    "    df=pd.DataFrame({'Actual':y_test, 'Predicted':y_pred})\n",
    "    b=metrics.mean_squared_error(y_test, y_pred)\n",
    "    MSE.append(b)\n",
    "plt.figure(figsize=(12, 6))\n",
    "plt.plot(range(1, 10), MSE, color='red', linestyle='dashed', marker='o',markerfacecolor='blue', markersize=10)\n",
    "plt.title('Mean Squared Error')\n",
    "plt.xlabel('max_depth')\n",
    "plt.ylabel('Mean Squared Error')"
   ]
  },
  {
   "cell_type": "code",
   "execution_count": 10,
   "metadata": {
    "scrolled": true
   },
   "outputs": [
    {
     "data": {
      "text/plain": [
       "Text(0, 0.5, 'Root Mean Squared Error')"
      ]
     },
     "execution_count": 10,
     "metadata": {},
     "output_type": "execute_result"
    },
    {
     "data": {
      "image/png": "[encoded data removed]",
      "text/plain": [
       "<Figure size 864x432 with 1 Axes>"
      ]
     },
     "metadata": {
      "needs_background": "light"
     },
     "output_type": "display_data"
    }
   ],
   "source": [
    "Absolute=[]\n",
    "MSE=[]\n",
    "RMSE=[]\n",
    "for i in range(1,10):\n",
    "    regressor = DecisionTreeRegressor(criterion='mse', max_depth=i)\n",
    "    regressor.fit(X_train.values.reshape(-1, 1), y_train)\n",
    "    y_pred = regressor.predict(X_test.values.reshape(-1, 1))\n",
    "    df=pd.DataFrame({'Actual':y_test, 'Predicted':y_pred})\n",
    "    c=np.sqrt(metrics.mean_squared_error(y_test, y_pred))\n",
    "    RMSE.append(c)\n",
    "plt.figure(figsize=(12, 6))\n",
    "plt.plot(range(1, 10), RMSE, color='red', linestyle='dashed', marker='o',markerfacecolor='blue', markersize=10)\n",
    "plt.title('Root Mean Squared Error')\n",
    "plt.xlabel('max_depth')\n",
    "plt.ylabel('Root Mean Squared Error')"
   ]
  },
  {
   "cell_type": "code",
   "execution_count": null,
   "metadata": {},
   "outputs": [],
   "source": []
  },
  {
   "cell_type": "code",
   "execution_count": null,
   "metadata": {},
   "outputs": [],
   "source": []
  },
  {
   "cell_type": "code",
   "execution_count": null,
   "metadata": {},
   "outputs": [],
   "source": []
  },
  {
   "cell_type": "code",
   "execution_count": null,
   "metadata": {},
   "outputs": [],
   "source": []
  }
 ],
 "metadata": {
  "kernelspec": {
   "display_name": "Python 3",
   "language": "python",
   "name": "python3"
  },
  "language_info": {
   "codemirror_mode": {
    "name": "ipython",
    "version": 3
   },
   "file_extension": ".py",
   "mimetype": "text/x-python",
   "name": "python",
   "nbconvert_exporter": "python",
   "pygments_lexer": "ipython3",
   "version": "3.7.7"
  }
 },
 "nbformat": 4,
 "nbformat_minor": 2
}
