{
 "cells": [
  {
   "cell_type": "markdown",
   "metadata": {},
   "source": [
    "# سوال ۶"
   ]
  },
  {
   "cell_type": "code",
   "execution_count": 1,
   "metadata": {},
   "outputs": [],
   "source": [
    "import pandas as pd\n",
    "from sklearn.datasets import load_breast_cancer\n",
    "from sklearn.model_selection import train_test_split\n",
    "from sklearn import svm \n",
    "import numpy as np"
   ]
  },
  {
   "cell_type": "markdown",
   "metadata": {},
   "source": [
    "# 6-1"
   ]
  },
  {
   "cell_type": "code",
   "execution_count": 2,
   "metadata": {},
   "outputs": [],
   "source": [
    "cancer = load_breast_cancer()"
   ]
  },
  {
   "cell_type": "markdown",
   "metadata": {},
   "source": [
    "# 6-2"
   ]
  },
  {
   "cell_type": "code",
   "execution_count": 3,
   "metadata": {},
   "outputs": [
    {
     "data": {
      "text/plain": [
       "array([0, 1, 1, 1, 1, 1, 1, 1, 1, 1, 1, 1, 1, 0, 1, 0, 1, 0, 0, 0, 0, 0,\n",
       "       1, 1, 0, 1, 1, 0, 1, 0, 1, 0, 1, 0, 1, 0, 1, 0, 1, 0, 0, 1, 0, 1,\n",
       "       0, 0, 1, 1, 1, 0, 0, 0, 0, 1, 1, 1, 1, 1, 1, 0, 0, 0, 1, 1, 0, 1,\n",
       "       0, 0, 0, 1, 0, 0, 1, 1, 0, 1, 1, 1, 1, 1, 0, 0, 0, 1, 0, 1, 1, 1,\n",
       "       0, 0, 1, 0, 0, 0, 1, 1, 0, 1, 1, 1, 1, 1, 1, 1, 0, 1, 0, 1, 0, 0,\n",
       "       1, 0, 0, 1])"
      ]
     },
     "execution_count": 3,
     "metadata": {},
     "output_type": "execute_result"
    }
   ],
   "source": [
    "X_train, X_test, y_train, y_test = train_test_split(cancer.data, cancer.target, test_size=0.2, random_state=0)\n",
    "from sklearn.svm import SVC\n",
    "SV = SVC(kernel='linear',probability=True)\n",
    "SV.fit(X_train, y_train)\n",
    "y_pred = SV.predict(X_test)\n",
    "y_pred"
   ]
  },
  {
   "cell_type": "markdown",
   "metadata": {},
   "source": [
    "# 6-3 "
   ]
  },
  {
   "cell_type": "code",
   "execution_count": 4,
   "metadata": {},
   "outputs": [],
   "source": [
    "from sklearn.metrics import classification_report, confusion_matrix"
   ]
  },
  {
   "cell_type": "markdown",
   "metadata": {},
   "source": [
    "# 6-4"
   ]
  },
  {
   "cell_type": "code",
   "execution_count": 5,
   "metadata": {},
   "outputs": [
    {
     "data": {
      "text/html": [
       "<div>\n",
       "<style scoped>\n",
       "    .dataframe tbody tr th:only-of-type {\n",
       "        vertical-align: middle;\n",
       "    }\n",
       "\n",
       "    .dataframe tbody tr th {\n",
       "        vertical-align: top;\n",
       "    }\n",
       "\n",
       "    .dataframe thead th {\n",
       "        text-align: right;\n",
       "    }\n",
       "</style>\n",
       "<table border=\"1\" class=\"dataframe\">\n",
       "  <thead>\n",
       "    <tr style=\"text-align: right;\">\n",
       "      <th></th>\n",
       "      <th>PredictionCancer</th>\n",
       "      <th>PredictionHealthy</th>\n",
       "    </tr>\n",
       "  </thead>\n",
       "  <tbody>\n",
       "    <tr>\n",
       "      <th>RealCancer</th>\n",
       "      <td>46</td>\n",
       "      <td>1</td>\n",
       "    </tr>\n",
       "    <tr>\n",
       "      <th>RealHealthy</th>\n",
       "      <td>4</td>\n",
       "      <td>63</td>\n",
       "    </tr>\n",
       "  </tbody>\n",
       "</table>\n",
       "</div>"
      ],
      "text/plain": [
       "             PredictionCancer  PredictionHealthy\n",
       "RealCancer                 46                  1\n",
       "RealHealthy                 4                 63"
      ]
     },
     "execution_count": 5,
     "metadata": {},
     "output_type": "execute_result"
    }
   ],
   "source": [
    "c=pd.DataFrame(confusion_matrix(y_test,y_pred) , index=['RealCancer','RealHealthy'],columns=['PredictionCancer','PredictionHealthy'])\n",
    "c"
   ]
  },
  {
   "cell_type": "markdown",
   "metadata": {},
   "source": [
    "# 6-5"
   ]
  },
  {
   "cell_type": "code",
   "execution_count": 6,
   "metadata": {},
   "outputs": [
    {
     "name": "stdout",
     "output_type": "stream",
     "text": [
      "              precision    recall  f1-score   support\n",
      "\n",
      "           0       0.92      0.98      0.95        47\n",
      "           1       0.98      0.94      0.96        67\n",
      "\n",
      "    accuracy                           0.96       114\n",
      "   macro avg       0.95      0.96      0.96       114\n",
      "weighted avg       0.96      0.96      0.96       114\n",
      "\n"
     ]
    }
   ],
   "source": [
    "print(classification_report(y_test,y_pred))"
   ]
  },
  {
   "cell_type": "markdown",
   "metadata": {},
   "source": [
    "# 6-6"
   ]
  },
  {
   "cell_type": "code",
   "execution_count": 7,
   "metadata": {},
   "outputs": [
    {
     "data": {
      "text/plain": [
       "array([[0.9787234 , 0.0212766 ],\n",
       "       [0.05970149, 0.94029851]])"
      ]
     },
     "execution_count": 7,
     "metadata": {},
     "output_type": "execute_result"
    }
   ],
   "source": [
    "from sklearn import preprocessing\n",
    "normalize=preprocessing.normalize(c, norm='l1', axis=1)\n",
    "normalize"
   ]
  },
  {
   "cell_type": "markdown",
   "metadata": {},
   "source": [
    "# 6-7"
   ]
  },
  {
   "cell_type": "code",
   "execution_count": 8,
   "metadata": {},
   "outputs": [
    {
     "data": {
      "text/html": [
       "<div>\n",
       "<style scoped>\n",
       "    .dataframe tbody tr th:only-of-type {\n",
       "        vertical-align: middle;\n",
       "    }\n",
       "\n",
       "    .dataframe tbody tr th {\n",
       "        vertical-align: top;\n",
       "    }\n",
       "\n",
       "    .dataframe thead th {\n",
       "        text-align: right;\n",
       "    }\n",
       "</style>\n",
       "<table border=\"1\" class=\"dataframe\">\n",
       "  <thead>\n",
       "    <tr style=\"text-align: right;\">\n",
       "      <th></th>\n",
       "      <th>PredictionMalignant</th>\n",
       "      <th>PredictionBenign</th>\n",
       "    </tr>\n",
       "  </thead>\n",
       "  <tbody>\n",
       "    <tr>\n",
       "      <th>Malignant</th>\n",
       "      <td>0.978723</td>\n",
       "      <td>0.021277</td>\n",
       "    </tr>\n",
       "    <tr>\n",
       "      <th>Benign</th>\n",
       "      <td>0.059701</td>\n",
       "      <td>0.940299</td>\n",
       "    </tr>\n",
       "  </tbody>\n",
       "</table>\n",
       "</div>"
      ],
      "text/plain": [
       "           PredictionMalignant  PredictionBenign\n",
       "Malignant             0.978723          0.021277\n",
       "Benign                0.059701          0.940299"
      ]
     },
     "execution_count": 8,
     "metadata": {},
     "output_type": "execute_result"
    }
   ],
   "source": [
    "d=pd.DataFrame(normalize, index=['Malignant','Benign'],columns=['PredictionMalignant','PredictionBenign'])\n",
    "d"
   ]
  },
  {
   "cell_type": "markdown",
   "metadata": {},
   "source": [
    "# 6-9"
   ]
  },
  {
   "cell_type": "code",
   "execution_count": 9,
   "metadata": {},
   "outputs": [
    {
     "data": {
      "text/plain": [
       "array([[9.39818924e-01, 6.01810755e-02],\n",
       "       [1.04115441e-01, 8.95884559e-01],\n",
       "       [1.34647464e-02, 9.86535254e-01],\n",
       "       [1.80251624e-01, 8.19748376e-01],\n",
       "       [4.99001988e-06, 9.99995010e-01],\n",
       "       [1.72704894e-02, 9.82729511e-01],\n",
       "       [3.20526775e-02, 9.67947322e-01],\n",
       "       [1.07361228e-02, 9.89263877e-01],\n",
       "       [1.69580798e-02, 9.83041920e-01],\n",
       "       [3.45692157e-06, 9.99996543e-01],\n",
       "       [3.61184481e-01, 6.38815519e-01],\n",
       "       [2.47670940e-01, 7.52329060e-01],\n",
       "       [9.81960626e-03, 9.90180394e-01],\n",
       "       [4.48244610e-01, 5.51755390e-01],\n",
       "       [2.80535200e-01, 7.19464800e-01],\n",
       "       [8.99344512e-01, 1.00655488e-01],\n",
       "       [2.32695205e-02, 9.76730479e-01],\n",
       "       [9.99908093e-01, 9.19073762e-05],\n",
       "       [9.38009389e-01, 6.19906113e-02],\n",
       "       [9.99999160e-01, 8.39576402e-07],\n",
       "       [9.95841246e-01, 4.15875447e-03],\n",
       "       [7.86702485e-01, 2.13297515e-01],\n",
       "       [1.72493478e-02, 9.82750652e-01],\n",
       "       [3.77681604e-02, 9.62231840e-01],\n",
       "       [7.28605604e-01, 2.71394396e-01],\n",
       "       [2.19821787e-02, 9.78017821e-01],\n",
       "       [6.44483305e-03, 9.93555167e-01],\n",
       "       [8.39935533e-01, 1.60064467e-01],\n",
       "       [2.08451777e-02, 9.79154822e-01],\n",
       "       [9.99992586e-01, 7.41437195e-06],\n",
       "       [3.31766016e-03, 9.96682340e-01],\n",
       "       [9.98993783e-01, 1.00621749e-03],\n",
       "       [4.00729524e-01, 5.99270476e-01],\n",
       "       [9.76923601e-01, 2.30763994e-02],\n",
       "       [4.22608523e-06, 9.99995774e-01],\n",
       "       [9.72683509e-01, 2.73164906e-02],\n",
       "       [1.07057674e-01, 8.92942326e-01],\n",
       "       [9.97095188e-01, 2.90481171e-03],\n",
       "       [3.35254910e-02, 9.66474509e-01],\n",
       "       [9.89842398e-01, 1.01576023e-02],\n",
       "       [8.21394776e-01, 1.78605224e-01],\n",
       "       [5.20553362e-03, 9.94794466e-01],\n",
       "       [9.38283338e-01, 6.17166617e-02],\n",
       "       [4.45780794e-03, 9.95542192e-01],\n",
       "       [7.90000454e-01, 2.09999546e-01],\n",
       "       [9.99998892e-01, 1.10808487e-06],\n",
       "       [2.77295084e-06, 9.99997227e-01],\n",
       "       [8.00320758e-02, 9.19967924e-01],\n",
       "       [7.60997438e-03, 9.92390026e-01],\n",
       "       [9.94742172e-01, 5.25782846e-03],\n",
       "       [9.98379368e-01, 1.62063232e-03],\n",
       "       [6.54802089e-01, 3.45197911e-01],\n",
       "       [9.98991638e-01, 1.00836231e-03],\n",
       "       [2.26950712e-02, 9.77304929e-01],\n",
       "       [4.42907778e-02, 9.55709222e-01],\n",
       "       [7.24464335e-03, 9.92755357e-01],\n",
       "       [5.23758576e-02, 9.47624142e-01],\n",
       "       [4.38004296e-02, 9.56199570e-01],\n",
       "       [5.02480933e-02, 9.49751907e-01],\n",
       "       [9.99999900e-01, 1.00000010e-07],\n",
       "       [9.15154988e-01, 8.48450123e-02],\n",
       "       [9.92800939e-01, 7.19906088e-03],\n",
       "       [7.99862739e-03, 9.92001373e-01],\n",
       "       [2.50277802e-02, 9.74972220e-01],\n",
       "       [9.99904929e-01, 9.50706716e-05],\n",
       "       [1.36347110e-01, 8.63652890e-01],\n",
       "       [9.99999900e-01, 1.00000010e-07],\n",
       "       [9.99474689e-01, 5.25310700e-04],\n",
       "       [9.99854857e-01, 1.45142687e-04],\n",
       "       [1.59800933e-02, 9.84019907e-01],\n",
       "       [4.51343033e-01, 5.48656967e-01],\n",
       "       [9.98437952e-01, 1.56204797e-03],\n",
       "       [1.39787946e-02, 9.86021205e-01],\n",
       "       [2.56615741e-01, 7.43384259e-01],\n",
       "       [9.99123564e-01, 8.76436466e-04],\n",
       "       [8.33593342e-02, 9.16640666e-01],\n",
       "       [4.19905302e-03, 9.95800947e-01],\n",
       "       [4.53486001e-02, 9.54651400e-01],\n",
       "       [1.82486293e-02, 9.81751371e-01],\n",
       "       [5.64771307e-03, 9.94352287e-01],\n",
       "       [9.72033505e-01, 2.79664947e-02],\n",
       "       [9.99996635e-01, 3.36464287e-06],\n",
       "       [9.98632448e-01, 1.36755218e-03],\n",
       "       [2.80576460e-03, 9.97194235e-01],\n",
       "       [7.73259595e-01, 2.26740405e-01],\n",
       "       [6.52721800e-03, 9.93472782e-01],\n",
       "       [1.07144067e-02, 9.89285593e-01],\n",
       "       [2.78934332e-03, 9.97210657e-01],\n",
       "       [9.94198483e-01, 5.80151708e-03],\n",
       "       [9.99999444e-01, 5.55958738e-07],\n",
       "       [6.27626742e-06, 9.99993724e-01],\n",
       "       [5.00000000e-01, 5.00000000e-01],\n",
       "       [5.62396326e-01, 4.37603674e-01],\n",
       "       [9.98405823e-01, 1.59417739e-03],\n",
       "       [1.47342037e-02, 9.85265796e-01],\n",
       "       [2.44044855e-02, 9.75595514e-01],\n",
       "       [9.99999900e-01, 1.00000010e-07],\n",
       "       [2.67177216e-01, 7.32822784e-01],\n",
       "       [6.38129616e-02, 9.36187038e-01],\n",
       "       [2.37251513e-02, 9.76274849e-01],\n",
       "       [3.81303424e-03, 9.96186966e-01],\n",
       "       [3.06577769e-02, 9.69342223e-01],\n",
       "       [3.17793987e-02, 9.68220601e-01],\n",
       "       [2.41115989e-01, 7.58884011e-01],\n",
       "       [9.99422258e-01, 5.77742216e-04],\n",
       "       [6.18223980e-03, 9.93817760e-01],\n",
       "       [9.97775426e-01, 2.22457417e-03],\n",
       "       [2.26538981e-01, 7.73461019e-01],\n",
       "       [5.76723139e-01, 4.23276861e-01],\n",
       "       [6.47210675e-01, 3.52789325e-01],\n",
       "       [6.45877622e-02, 9.35412238e-01],\n",
       "       [9.64931128e-01, 3.50688718e-02],\n",
       "       [9.96399219e-01, 3.60078061e-03],\n",
       "       [1.84688925e-01, 8.15311075e-01]])"
      ]
     },
     "execution_count": 9,
     "metadata": {},
     "output_type": "execute_result"
    }
   ],
   "source": [
    "y_predict_proba=SV.predict_proba(X_test)\n",
    "y_predict_proba"
   ]
  },
  {
   "cell_type": "markdown",
   "metadata": {},
   "source": [
    "# 6-10"
   ]
  },
  {
   "cell_type": "code",
   "execution_count": 10,
   "metadata": {},
   "outputs": [
    {
     "name": "stdout",
     "output_type": "stream",
     "text": [
      "fpr= [0.        0.0212766 1.       ] \n",
      " tpr= [0.         0.94029851 1.        ] \n",
      " thresholds= [2 1 0]\n",
      "ROC AUC: 0.96\n"
     ]
    }
   ],
   "source": [
    "from sklearn.metrics import roc_curve ,auc\n",
    "import matplotlib.pyplot as plt\n",
    "fpr, tpr, thresholds=roc_curve(y_test,y_pred)\n",
    "print('fpr=',fpr,'\\n','tpr=',tpr,'\\n','thresholds=', thresholds)\n",
    "roc_auc=auc(fpr,tpr)\n",
    "print('ROC AUC: %0.2f' % roc_auc)"
   ]
  },
  {
   "cell_type": "markdown",
   "metadata": {},
   "source": [
    "# 6-11"
   ]
  },
  {
   "cell_type": "code",
   "execution_count": 11,
   "metadata": {},
   "outputs": [
    {
     "data": {
      "image/png": "[encoded data removed]",
      "text/plain": [
       "<Figure size 432x288 with 1 Axes>"
      ]
     },
     "metadata": {
      "needs_background": "light"
     },
     "output_type": "display_data"
    }
   ],
   "source": [
    "#plot of ROC curve for a specified class\n",
    "plt.figure()\n",
    "plt.plot(fpr,tpr,label='ROC curve(area= %2.f)' %roc_auc)\n",
    "plt.plot([0,1],[0,1],'k--')\n",
    "plt.xlim([0.0,1.0])\n",
    "plt.ylim([0.0,1.05])\n",
    "plt.xlabel('False positive rate')\n",
    "plt.ylabel('True positive rate')\n",
    "plt.title('ROC curve')\n",
    "plt.legend(loc='lower right')\n",
    "plt.grid()\n",
    "plt.show()"
   ]
  },
  {
   "cell_type": "code",
   "execution_count": null,
   "metadata": {},
   "outputs": [],
   "source": []
  },
  {
   "cell_type": "code",
   "execution_count": null,
   "metadata": {},
   "outputs": [],
   "source": []
  },
  {
   "cell_type": "code",
   "execution_count": null,
   "metadata": {},
   "outputs": [],
   "source": []
  }
 ],
 "metadata": {
  "kernelspec": {
   "display_name": "Python 3",
   "language": "python",
   "name": "python3"
  },
  "language_info": {
   "codemirror_mode": {
    "name": "ipython",
    "version": 3
   },
   "file_extension": ".py",
   "mimetype": "text/x-python",
   "name": "python",
   "nbconvert_exporter": "python",
   "pygments_lexer": "ipython3",
   "version": "3.7.7"
  }
 },
 "nbformat": 4,
 "nbformat_minor": 4
}
